{
  "nbformat": 4,
  "nbformat_minor": 0,
  "metadata": {
    "colab": {
      "provenance": [],
      "authorship_tag": "ABX9TyMm57kbeQ+YVBjktPf+gjVo",
      "include_colab_link": true
    },
    "kernelspec": {
      "name": "python3",
      "display_name": "Python 3"
    },
    "language_info": {
      "name": "python"
    }
  },
  "cells": [
    {
      "cell_type": "markdown",
      "metadata": {
        "id": "view-in-github",
        "colab_type": "text"
      },
      "source": [
        "<a href=\"https://colab.research.google.com/github/rosemilca-Ing/Master_II/blob/deep_learning/Projet_Deep_Learning.ipynb\" target=\"_parent\"><img src=\"https://colab.research.google.com/assets/colab-badge.svg\" alt=\"Open In Colab\"/></a>"
      ]
    },
    {
      "cell_type": "markdown",
      "source": [
        "# **Pseudo-Label : Semi-Supervised Learning method for Deep Neural Networks**"
      ],
      "metadata": {
        "id": "8lb9J9I9Ol23"
      }
    },
    {
      "cell_type": "markdown",
      "source": [
        "# **Prédiction des données MNIST avec uniquement 100 labels**"
      ],
      "metadata": {
        "id": "gwgSK4xlppN4"
      }
    },
    {
      "cell_type": "markdown",
      "source": [
        "# **Exploration des données**"
      ],
      "metadata": {
        "id": "wvFMX4M2pzIt"
      }
    },
    {
      "cell_type": "code",
      "execution_count": null,
      "metadata": {
        "id": "bR4BGGVx6rHo"
      },
      "outputs": [],
      "source": [
        "import numpy as np\n",
        "import random\n",
        "import matplotlib.pyplot as plt\n",
        "from tensorflow.keras.datasets import mnist\n",
        "import tensorflow as tf\n",
        "from tensorflow.keras.preprocessing.image import load_img\n",
        "from tensorflow.keras.preprocessing.image import img_to_array\n",
        "from tensorflow.keras.layers import Input, Dense\n",
        "from tensorflow.keras.models import Model\n",
        "from tensorflow.keras.optimizers import SGD\n",
        "from tensorflow.keras.layers import Dropout\n",
        "from keras.utils import to_categorical"
      ]
    },
    {
      "cell_type": "code",
      "source": [
        "random.seed(42)\n",
        "(x_train, y_train), (x_test, y_test) = mnist.load_data()\n",
        "number = 7\n",
        "plt.figure(figsize=(10, 2))\n",
        "for i in range(number):\n",
        "    plt.subplot(1, number, i + 1)\n",
        "    plt.imshow(x_train[i], cmap='gray')\n",
        "    plt.title(f\"Label : {y_train[i]}\")\n",
        "    plt.axis('off')\n",
        "\n",
        "plt.show()"
      ],
      "metadata": {
        "colab": {
          "base_uri": "https://localhost:8080/",
          "height": 153
        },
        "id": "WvIZfS_EqUSn",
        "outputId": "bc37ec51-8538-4a9d-b4cf-9ebcc96a1429"
      },
      "execution_count": null,
      "outputs": [
        {
          "output_type": "display_data",
          "data": {
            "text/plain": [
              "<Figure size 1000x200 with 7 Axes>"
            ],
            "image/png": "[encoded data removed]"
          },
          "metadata": {}
        }
      ]
    },
    {
      "cell_type": "code",
      "source": [
        "print(\"Nombre total d'images d'entraînement : \",  len(x_train))\n",
        "print(\"Nombre total d'images de test : \",  len(x_test))\n",
        "print(\"Forme d'une image : \", x_train[0].shape)\n",
        "print(\"Labels uniques : \", np.unique(y_train))"
      ],
      "metadata": {
        "colab": {
          "base_uri": "https://localhost:8080/"
        },
        "id": "655LlHQcVaWN",
        "outputId": "c5d61d98-3c37-4650-c1b2-311306706d4d"
      },
      "execution_count": null,
      "outputs": [
        {
          "output_type": "stream",
          "name": "stdout",
          "text": [
            "Nombre total d'images d'entraînement :  60000\n",
            "Nombre total d'images de test :  10000\n",
            "Forme d'une image :  (28, 28)\n",
            "Labels uniques :  [0 1 2 3 4 5 6 7 8 9]\n"
          ]
        }
      ]
    },
    {
      "cell_type": "markdown",
      "source": [
        "# **Methode I (DNN + Pseudo-Label)**"
      ],
      "metadata": {
        "id": "FbEOb6OkArBh"
      }
    },
    {
      "cell_type": "markdown",
      "source": [
        "***ref:*** https://medium.com/analytics-vidhya/implementing-a-deep-neural-network-from-scratch-8ed9988d2e4d\n",
        "\n",
        "https://www.datacamp.com/tutorial/introduction-to-deep-neural-networks"
      ],
      "metadata": {
        "id": "Kb_elKp1cPaq"
      }
    },
    {
      "cell_type": "markdown",
      "source": [
        "## **Implémentation du modèle DNN**"
      ],
      "metadata": {
        "id": "Qd0e57gqVMLA"
      }
    },
    {
      "cell_type": "code",
      "source": [
        "random.seed(42)\n",
        "(x_train, y_train), (x_test, y_test) = mnist.load_data()"
      ],
      "metadata": {
        "id": "OKqAVEZ7tu2T"
      },
      "execution_count": null,
      "outputs": []
    },
    {
      "cell_type": "code",
      "source": [
        "# Aplatir et normaliser\n",
        "x_train = x_train.reshape(x_train.shape[0], -1) / 255.0\n",
        "x_test = x_test.reshape(x_test.shape[0], -1) / 255.0"
      ],
      "metadata": {
        "id": "C_rSOjhkOFMV"
      },
      "execution_count": null,
      "outputs": []
    },
    {
      "cell_type": "code",
      "source": [
        "y_train = to_categorical(y_train, 10)\n",
        "y_test = to_categorical(y_test, 10)"
      ],
      "metadata": {
        "id": "P-03EmIzPEuA"
      },
      "execution_count": null,
      "outputs": []
    },
    {
      "cell_type": "code",
      "source": [
        "# Selection de 100 examples labelisés\n",
        "labeled_indices = np.random.choice(len(x_train), size=100, replace=False)\n",
        "x_labeled = x_train[labeled_indices]\n",
        "y_labeled = y_train[labeled_indices]"
      ],
      "metadata": {
        "id": "JS8aVo8sd2jI"
      },
      "execution_count": null,
      "outputs": []
    },
    {
      "cell_type": "code",
      "source": [
        "model = tf.keras.models.Sequential([\n",
        "    tf.keras.layers.Flatten(input_shape=(784,)),\n",
        "    tf.keras.layers.Dense(128, activation='relu'),\n",
        "    tf.keras.layers.Dense(128, activation='relu'),\n",
        "    tf.keras.layers.Dense(128, activation='relu'),\n",
        "    tf.keras.layers.Dense(10, activation='sigmoid')\n",
        "])\n",
        "\n",
        "model.summary()"
      ],
      "metadata": {
        "colab": {
          "base_uri": "https://localhost:8080/"
        },
        "id": "7CJsKSP6cSBI",
        "outputId": "98a22ab1-2ce9-41a0-e570-10e1897dbc8c"
      },
      "execution_count": null,
      "outputs": [
        {
          "output_type": "stream",
          "name": "stdout",
          "text": [
            "Model: \"sequential_2\"\n",
            "_________________________________________________________________\n",
            " Layer (type)                Output Shape              Param #   \n",
            "=================================================================\n",
            " flatten_2 (Flatten)         (None, 784)               0         \n",
            "                                                                 \n",
            " dense_12 (Dense)            (None, 128)               100480    \n",
            "                                                                 \n",
            " dense_13 (Dense)            (None, 128)               16512     \n",
            "                                                                 \n",
            " dense_14 (Dense)            (None, 128)               16512     \n",
            "                                                                 \n",
            " dense_15 (Dense)            (None, 10)                1290      \n",
            "                                                                 \n",
            "=================================================================\n",
            "Total params: 134794 (526.54 KB)\n",
            "Trainable params: 134794 (526.54 KB)\n",
            "Non-trainable params: 0 (0.00 Byte)\n",
            "_________________________________________________________________\n"
          ]
        }
      ]
    },
    {
      "cell_type": "markdown",
      "source": [
        "https://khayyam.developpez.com/articles/intelligence-artificielle/tensorflow/"
      ],
      "metadata": {
        "id": "dUhEXwoMC65I"
      }
    },
    {
      "cell_type": "code",
      "source": [
        "model.compile(optimizer='adam', loss='categorical_crossentropy', metrics=['accuracy'])"
      ],
      "metadata": {
        "id": "JcEBC-bCBm81"
      },
      "execution_count": null,
      "outputs": []
    },
    {
      "cell_type": "code",
      "source": [
        "model.fit(x_labeled, y_labeled, epochs=10)"
      ],
      "metadata": {
        "colab": {
          "base_uri": "https://localhost:8080/"
        },
        "id": "sOmTxE3z2C1o",
        "outputId": "c4d3ce48-11a8-4ceb-ff98-4a48a7f8be8b"
      },
      "execution_count": null,
      "outputs": [
        {
          "output_type": "stream",
          "name": "stdout",
          "text": [
            "Epoch 1/10\n",
            "4/4 [==============================] - 1s 6ms/step - loss: 2.3117 - accuracy: 0.1000\n",
            "Epoch 2/10\n",
            "4/4 [==============================] - 0s 6ms/step - loss: 2.0567 - accuracy: 0.4200\n",
            "Epoch 3/10\n",
            "4/4 [==============================] - 0s 6ms/step - loss: 1.8443 - accuracy: 0.6200\n",
            "Epoch 4/10\n",
            "4/4 [==============================] - 0s 6ms/step - loss: 1.6220 - accuracy: 0.6400\n",
            "Epoch 5/10\n",
            "4/4 [==============================] - 0s 5ms/step - loss: 1.3905 - accuracy: 0.6800\n",
            "Epoch 6/10\n",
            "4/4 [==============================] - 0s 5ms/step - loss: 1.1556 - accuracy: 0.7300\n",
            "Epoch 7/10\n",
            "4/4 [==============================] - 0s 6ms/step - loss: 0.9322 - accuracy: 0.7800\n",
            "Epoch 8/10\n",
            "4/4 [==============================] - 0s 6ms/step - loss: 0.7197 - accuracy: 0.9000\n",
            "Epoch 9/10\n",
            "4/4 [==============================] - 0s 5ms/step - loss: 0.5352 - accuracy: 0.9600\n",
            "Epoch 10/10\n",
            "4/4 [==============================] - 0s 5ms/step - loss: 0.3951 - accuracy: 0.9500\n"
          ]
        },
        {
          "output_type": "execute_result",
          "data": {
            "text/plain": [
              "<keras.src.callbacks.History at 0x7c395a5b56f0>"
            ]
          },
          "metadata": {},
          "execution_count": 35
        }
      ]
    },
    {
      "cell_type": "code",
      "source": [
        "test_loss, test_acc = model.evaluate(x_test,  y_test, verbose=2)"
      ],
      "metadata": {
        "colab": {
          "base_uri": "https://localhost:8080/"
        },
        "id": "BxXbaqaoyNY1",
        "outputId": "18042432-e9a0-47ab-f829-39a16502ee01"
      },
      "execution_count": null,
      "outputs": [
        {
          "output_type": "stream",
          "name": "stdout",
          "text": [
            "313/313 - 1s - loss: 1.1300 - accuracy: 0.6224 - 671ms/epoch - 2ms/step\n"
          ]
        }
      ]
    },
    {
      "cell_type": "code",
      "source": [
        "files = [\"zero.png\", \"one.png\", \"two.png\", \"three.png\", \"four.png\", \"five.png\", \"six.png\", \"seven.png\"]\n",
        "for file in files:\n",
        "    img = load_img(file, color_mode='grayscale')\n",
        "    x = img_to_array(img)\n",
        "    x = x.reshape(1, -1) / 255.0\n",
        "    y = model.predict(x)\n",
        "    predicted_class = np.argmax(y, axis=-1)\n",
        "\n",
        "    print(file + \" => \" + str(predicted_class[0]) + \"\\n\")"
      ],
      "metadata": {
        "colab": {
          "base_uri": "https://localhost:8080/"
        },
        "id": "d7J16rB7nWvQ",
        "outputId": "1ae80fed-ec61-4cb9-9e67-fdca06655f0d"
      },
      "execution_count": null,
      "outputs": [
        {
          "output_type": "stream",
          "name": "stdout",
          "text": [
            "1/1 [==============================] - 0s 64ms/step\n",
            "zero.png => 5\n",
            "\n",
            "1/1 [==============================] - 0s 24ms/step\n",
            "one.png => 7\n",
            "\n",
            "1/1 [==============================] - 0s 19ms/step\n",
            "two.png => 1\n",
            "\n",
            "1/1 [==============================] - 0s 24ms/step\n",
            "three.png => 5\n",
            "\n",
            "1/1 [==============================] - 0s 25ms/step\n",
            "four.png => 6\n",
            "\n",
            "1/1 [==============================] - 0s 21ms/step\n",
            "five.png => 5\n",
            "\n",
            "1/1 [==============================] - 0s 23ms/step\n",
            "six.png => 5\n",
            "\n",
            "1/1 [==============================] - 0s 20ms/step\n",
            "seven.png => 8\n",
            "\n"
          ]
        }
      ]
    },
    {
      "cell_type": "markdown",
      "source": [
        "**Commentaires:** Le modèle prédit peu d'imagescorrectement"
      ],
      "metadata": {
        "id": "RiIPPbQGUeda"
      }
    },
    {
      "cell_type": "markdown",
      "source": [
        "## **Pseudo-Label**"
      ],
      "metadata": {
        "id": "hDYcwFdL_jHr"
      }
    },
    {
      "cell_type": "code",
      "source": [
        "# Selection 59 900  examples unlabelisés\n",
        "unlabeled_indices = np.delete(np.arange(len(x_train)), labeled_indices)\n",
        "x_unlabeled = x_train[unlabeled_indices]"
      ],
      "metadata": {
        "id": "k_Y3eVK9_UrV"
      },
      "execution_count": null,
      "outputs": []
    },
    {
      "cell_type": "code",
      "source": [
        "pseudo_labels = model.predict(x_unlabeled)\n",
        "pseudo_labels = np.argmax(pseudo_labels, axis=1)\n",
        "pseudo_labels = to_categorical(pseudo_labels, 10)"
      ],
      "metadata": {
        "colab": {
          "base_uri": "https://localhost:8080/"
        },
        "outputId": "cfac1eba-90a7-4076-abb1-680ddc482242",
        "id": "W38f88-m_UrV"
      },
      "execution_count": null,
      "outputs": [
        {
          "output_type": "stream",
          "name": "stdout",
          "text": [
            "1872/1872 [==============================] - 5s 2ms/step\n"
          ]
        }
      ]
    },
    {
      "cell_type": "code",
      "source": [
        "# Combine labelisés and pseudo-labeled\n",
        "combined_x = np.concatenate([x_labeled, x_unlabeled], axis=0)\n",
        "combined_y = np.concatenate([y_labeled, pseudo_labels], axis=0)"
      ],
      "metadata": {
        "id": "OwZJf4Ds_UrV"
      },
      "execution_count": null,
      "outputs": []
    },
    {
      "cell_type": "code",
      "source": [
        "# Train sur  data combinés\n",
        "model.compile(optimizer='adam', loss='categorical_crossentropy', metrics=['accuracy'])\n",
        "model.fit(combined_x, combined_y, epochs=1,  shuffle=True)"
      ],
      "metadata": {
        "colab": {
          "base_uri": "https://localhost:8080/"
        },
        "outputId": "da0acae7-b060-481d-fec5-41c7a4361fff",
        "id": "yGpiRreP_UrV"
      },
      "execution_count": null,
      "outputs": [
        {
          "output_type": "stream",
          "name": "stdout",
          "text": [
            "1875/1875 [==============================] - 10s 5ms/step - loss: 0.2560 - accuracy: 0.9007\n"
          ]
        },
        {
          "output_type": "execute_result",
          "data": {
            "text/plain": [
              "<keras.src.callbacks.History at 0x7c395ab08d30>"
            ]
          },
          "metadata": {},
          "execution_count": 42
        }
      ]
    },
    {
      "cell_type": "code",
      "source": [
        "test_loss, test_acc = model.evaluate(x_test,  y_test, verbose=2)"
      ],
      "metadata": {
        "colab": {
          "base_uri": "https://localhost:8080/"
        },
        "id": "sdY6GAt733Mk",
        "outputId": "adc8e8e5-ce96-463a-d46a-7dcb739c0b70"
      },
      "execution_count": null,
      "outputs": [
        {
          "output_type": "stream",
          "name": "stdout",
          "text": [
            "313/313 - 1s - loss: 2.8258 - accuracy: 0.6208 - 675ms/epoch - 2ms/step\n"
          ]
        }
      ]
    },
    {
      "cell_type": "markdown",
      "source": [
        "# **Methode II : DropOut et Pseudo Label**"
      ],
      "metadata": {
        "id": "o2GGfPV7VE5a"
      }
    },
    {
      "cell_type": "markdown",
      "source": [
        "## **DropOut**"
      ],
      "metadata": {
        "id": "OtwV7EYv5eni"
      }
    },
    {
      "cell_type": "code",
      "source": [
        "random.seed(42)\n",
        "(x_train, y_train), (x_test, y_test) = mnist.load_data()"
      ],
      "metadata": {
        "id": "Zoli1ftk_GA7"
      },
      "execution_count": null,
      "outputs": []
    },
    {
      "cell_type": "code",
      "source": [
        "x_train = x_train.reshape(x_train.shape[0], -1) / 255.0\n",
        "x_test = x_test.reshape(x_test.shape[0], -1) / 255.0"
      ],
      "metadata": {
        "id": "ZGJ8JfW25g_e"
      },
      "execution_count": null,
      "outputs": []
    },
    {
      "cell_type": "code",
      "source": [
        "y_train = to_categorical(y_train, 10)\n",
        "y_test = to_categorical(y_test, 10)"
      ],
      "metadata": {
        "id": "iLAvyYfY5g_e"
      },
      "execution_count": null,
      "outputs": []
    },
    {
      "cell_type": "code",
      "source": [
        "labeled_indices = np.random.choice(len(x_train), size=100, replace=False)\n",
        "x_labeled = x_train[labeled_indices]\n",
        "y_labeled = y_train[labeled_indices]\n"
      ],
      "metadata": {
        "id": "mkBlM2-F5g_e"
      },
      "execution_count": null,
      "outputs": []
    },
    {
      "cell_type": "code",
      "source": [
        "model = tf.keras.models.Sequential([\n",
        "    tf.keras.layers.Flatten(input_shape=(784,)),\n",
        "    tf.keras.layers.Dense(128, activation='relu'),\n",
        "    tf.keras.layers.Dropout(0.5),\n",
        "    tf.keras.layers.Dense(128, activation='relu'),\n",
        "    tf.keras.layers.Dropout(0.5),\n",
        "    tf.keras.layers.Dense(128, activation='relu'),\n",
        "    tf.keras.layers.Dropout(0.5),\n",
        "    tf.keras.layers.Dense(10, activation='sigmoid')\n",
        "])\n",
        "\n",
        "model.summary()"
      ],
      "metadata": {
        "colab": {
          "base_uri": "https://localhost:8080/"
        },
        "id": "rSEJQ4Gz5g_e",
        "outputId": "86e11970-3c9b-430e-a87f-4566333ad768"
      },
      "execution_count": null,
      "outputs": [
        {
          "output_type": "stream",
          "name": "stdout",
          "text": [
            "Model: \"sequential_3\"\n",
            "_________________________________________________________________\n",
            " Layer (type)                Output Shape              Param #   \n",
            "=================================================================\n",
            " flatten_3 (Flatten)         (None, 784)               0         \n",
            "                                                                 \n",
            " dense_16 (Dense)            (None, 128)               100480    \n",
            "                                                                 \n",
            " dropout (Dropout)           (None, 128)               0         \n",
            "                                                                 \n",
            " dense_17 (Dense)            (None, 128)               16512     \n",
            "                                                                 \n",
            " dropout_1 (Dropout)         (None, 128)               0         \n",
            "                                                                 \n",
            " dense_18 (Dense)            (None, 128)               16512     \n",
            "                                                                 \n",
            " dropout_2 (Dropout)         (None, 128)               0         \n",
            "                                                                 \n",
            " dense_19 (Dense)            (None, 10)                1290      \n",
            "                                                                 \n",
            "=================================================================\n",
            "Total params: 134794 (526.54 KB)\n",
            "Trainable params: 134794 (526.54 KB)\n",
            "Non-trainable params: 0 (0.00 Byte)\n",
            "_________________________________________________________________\n"
          ]
        }
      ]
    },
    {
      "cell_type": "code",
      "source": [
        "tf.keras.utils.plot_model(model, to_file='model_big.png', show_shapes=True)"
      ],
      "metadata": {
        "colab": {
          "base_uri": "https://localhost:8080/",
          "height": 976
        },
        "id": "dIZOEP135-TB",
        "outputId": "d149634f-22dd-43e2-e1ed-499cc90e4194"
      },
      "execution_count": null,
      "outputs": [
        {
          "output_type": "execute_result",
          "data": {
            "image/png": "[encoded data removed]",
            "text/plain": [
              "<IPython.core.display.Image object>"
            ]
          },
          "metadata": {},
          "execution_count": 49
        }
      ]
    },
    {
      "cell_type": "code",
      "source": [
        "model.compile(optimizer='adam', loss='categorical_crossentropy', metrics=['accuracy'])"
      ],
      "metadata": {
        "id": "I-6rbygH5g_e"
      },
      "execution_count": null,
      "outputs": []
    },
    {
      "cell_type": "code",
      "source": [
        "model.fit(x_labeled, y_labeled, epochs=10)"
      ],
      "metadata": {
        "outputId": "bdf77c04-2328-4ac7-a53c-14f358ae1c86",
        "colab": {
          "base_uri": "https://localhost:8080/"
        },
        "id": "zFrFJcA55g_e"
      },
      "execution_count": null,
      "outputs": [
        {
          "output_type": "stream",
          "name": "stdout",
          "text": [
            "Epoch 1/10\n",
            "4/4 [==============================] - 1s 6ms/step - loss: 2.4521 - accuracy: 0.0600\n",
            "Epoch 2/10\n",
            "4/4 [==============================] - 0s 6ms/step - loss: 2.3680 - accuracy: 0.1300\n",
            "Epoch 3/10\n",
            "4/4 [==============================] - 0s 6ms/step - loss: 2.3279 - accuracy: 0.0700\n",
            "Epoch 4/10\n",
            "4/4 [==============================] - 0s 5ms/step - loss: 2.2384 - accuracy: 0.1300\n",
            "Epoch 5/10\n",
            "4/4 [==============================] - 0s 5ms/step - loss: 2.2162 - accuracy: 0.2000\n",
            "Epoch 6/10\n",
            "4/4 [==============================] - 0s 6ms/step - loss: 2.1750 - accuracy: 0.1400\n",
            "Epoch 7/10\n",
            "4/4 [==============================] - 0s 7ms/step - loss: 2.2413 - accuracy: 0.1300\n",
            "Epoch 8/10\n",
            "4/4 [==============================] - 0s 6ms/step - loss: 2.1213 - accuracy: 0.2400\n",
            "Epoch 9/10\n",
            "4/4 [==============================] - 0s 7ms/step - loss: 2.1165 - accuracy: 0.2200\n",
            "Epoch 10/10\n",
            "4/4 [==============================] - 0s 6ms/step - loss: 2.0986 - accuracy: 0.2300\n"
          ]
        },
        {
          "output_type": "execute_result",
          "data": {
            "text/plain": [
              "<keras.src.callbacks.History at 0x7c395ab51630>"
            ]
          },
          "metadata": {},
          "execution_count": 51
        }
      ]
    },
    {
      "cell_type": "code",
      "source": [
        "test_loss, test_acc = model.evaluate(x_test,  y_test, verbose=2)"
      ],
      "metadata": {
        "outputId": "c23ad3b3-8bf2-4b12-f93f-f2519978ac28",
        "colab": {
          "base_uri": "https://localhost:8080/"
        },
        "id": "AAxMVfgb5g_e"
      },
      "execution_count": null,
      "outputs": [
        {
          "output_type": "stream",
          "name": "stdout",
          "text": [
            "313/313 - 1s - loss: 2.1142 - accuracy: 0.4030 - 662ms/epoch - 2ms/step\n"
          ]
        }
      ]
    },
    {
      "cell_type": "code",
      "source": [
        "files = [\"zero.png\", \"one.png\", \"two.png\", \"three.png\", \"four.png\", \"five.png\", \"six.png\", \"seven.png\"]\n",
        "for file in files:\n",
        "    img = load_img(file, color_mode='grayscale')\n",
        "    x = img_to_array(img)\n",
        "    x = x.reshape(1, -1) / 255.0\n",
        "    y = model.predict(x)\n",
        "    predicted_class = np.argmax(y, axis=-1)\n",
        "\n",
        "    print(file + \" => \" + str(predicted_class[0]) + \"\\n\")"
      ],
      "metadata": {
        "colab": {
          "base_uri": "https://localhost:8080/"
        },
        "outputId": "5fb55c92-84f2-4b32-f6f8-dab26cd55c63",
        "id": "3ztGAvb45g_f"
      },
      "execution_count": null,
      "outputs": [
        {
          "output_type": "stream",
          "name": "stdout",
          "text": [
            "1/1 [==============================] - 0s 67ms/step\n",
            "zero.png => 3\n",
            "\n",
            "1/1 [==============================] - 0s 23ms/step\n",
            "one.png => 8\n",
            "\n",
            "1/1 [==============================] - 0s 20ms/step\n",
            "two.png => 8\n",
            "\n",
            "1/1 [==============================] - 0s 22ms/step\n",
            "three.png => 3\n",
            "\n",
            "1/1 [==============================] - 0s 21ms/step\n",
            "four.png => 0\n",
            "\n",
            "1/1 [==============================] - 0s 28ms/step\n",
            "five.png => 9\n",
            "\n",
            "1/1 [==============================] - 0s 22ms/step\n",
            "six.png => 3\n",
            "\n",
            "1/1 [==============================] - 0s 25ms/step\n",
            "seven.png => 8\n",
            "\n"
          ]
        }
      ]
    },
    {
      "cell_type": "markdown",
      "source": [
        "## **Pseudo-Label**"
      ],
      "metadata": {
        "id": "4gXbT8s4Al_u"
      }
    },
    {
      "cell_type": "code",
      "source": [
        "unlabeled_indices = np.delete(np.arange(len(x_train)), labeled_indices)\n",
        "x_unlabeled = x_train[unlabeled_indices]"
      ],
      "metadata": {
        "id": "aPuTKjCjAg-4"
      },
      "execution_count": null,
      "outputs": []
    },
    {
      "cell_type": "code",
      "source": [
        "pseudo_labels = model.predict(x_unlabeled)\n",
        "pseudo_labels = np.argmax(pseudo_labels, axis=1)\n",
        "pseudo_labels = to_categorical(pseudo_labels, 10)"
      ],
      "metadata": {
        "colab": {
          "base_uri": "https://localhost:8080/"
        },
        "outputId": "4b23ffa6-64a3-4bb7-9247-bf1af90c1c8b",
        "id": "clGPRm6SAg-4"
      },
      "execution_count": null,
      "outputs": [
        {
          "output_type": "stream",
          "name": "stdout",
          "text": [
            "1872/1872 [==============================] - 4s 2ms/step\n"
          ]
        }
      ]
    },
    {
      "cell_type": "code",
      "source": [
        "combined_x = np.concatenate([x_labeled, x_unlabeled], axis=0)\n",
        "combined_y = np.concatenate([y_labeled, pseudo_labels], axis=0)"
      ],
      "metadata": {
        "id": "xeL5Ka8DAg-4"
      },
      "execution_count": null,
      "outputs": []
    },
    {
      "cell_type": "code",
      "source": [
        "model.compile(optimizer='adam', loss='categorical_crossentropy', metrics=['accuracy'])\n",
        "model.fit(combined_x, combined_y, epochs=1,  shuffle=True)"
      ],
      "metadata": {
        "colab": {
          "base_uri": "https://localhost:8080/"
        },
        "outputId": "6abda538-a8a4-4c70-8cc5-4c72c40a33d7",
        "id": "LfAV7wqPAg-4"
      },
      "execution_count": null,
      "outputs": [
        {
          "output_type": "stream",
          "name": "stdout",
          "text": [
            "1875/1875 [==============================] - 11s 5ms/step - loss: 0.7581 - accuracy: 0.7400\n"
          ]
        },
        {
          "output_type": "execute_result",
          "data": {
            "text/plain": [
              "<keras.src.callbacks.History at 0x7c395a58fb80>"
            ]
          },
          "metadata": {},
          "execution_count": 57
        }
      ]
    },
    {
      "cell_type": "code",
      "source": [
        "test_loss, test_acc = model.evaluate(x_test,  y_test, verbose=2)"
      ],
      "metadata": {
        "colab": {
          "base_uri": "https://localhost:8080/"
        },
        "outputId": "983751e8-0e43-4bf1-82f3-d8d192a91f89",
        "id": "B0yWFAmNAg-4"
      },
      "execution_count": null,
      "outputs": [
        {
          "output_type": "stream",
          "name": "stdout",
          "text": [
            "313/313 - 1s - loss: 5.1563 - accuracy: 0.4212 - 666ms/epoch - 2ms/step\n"
          ]
        }
      ]
    },
    {
      "cell_type": "markdown",
      "source": [
        "# **Methode III : Denoising AutoEncodeur + Pseudo Label**"
      ],
      "metadata": {
        "id": "Zwkp_tIhEMwv"
      }
    },
    {
      "cell_type": "markdown",
      "source": [
        "## **Denoising AutoEncodeur**"
      ],
      "metadata": {
        "id": "NezozQl3Ai8I"
      }
    },
    {
      "cell_type": "code",
      "source": [
        "random.seed(42)\n",
        "(x_train, y_train), (x_test, y_test) = mnist.load_data()"
      ],
      "metadata": {
        "id": "jAioRFnLEJlc"
      },
      "execution_count": null,
      "outputs": []
    },
    {
      "cell_type": "code",
      "source": [
        "x_train = x_train.reshape(x_train.shape[0], -1) / 255.0\n",
        "x_test = x_test.reshape(x_test.shape[0], -1) / 255.0"
      ],
      "metadata": {
        "id": "oXr_PwLwEJlc"
      },
      "execution_count": null,
      "outputs": []
    },
    {
      "cell_type": "code",
      "source": [
        "y_train = to_categorical(y_train, 10)\n",
        "y_test = to_categorical(y_test, 10)"
      ],
      "metadata": {
        "id": "fJWWrkNKEJlc"
      },
      "execution_count": null,
      "outputs": []
    },
    {
      "cell_type": "code",
      "source": [
        "labeled_indices = np.random.choice(len(x_train), size=100, replace=False)\n",
        "x_labeled = x_train[labeled_indices]\n",
        "y_labeled = y_train[labeled_indices]\n"
      ],
      "metadata": {
        "id": "vq-rRCckEJlc"
      },
      "execution_count": null,
      "outputs": []
    },
    {
      "cell_type": "code",
      "source": [
        "unlabeled_indices = np.delete(np.arange(len(x_train)), labeled_indices)\n",
        "x_unlabeled = x_train[unlabeled_indices]"
      ],
      "metadata": {
        "id": "zC1LrfaIWuzI"
      },
      "execution_count": null,
      "outputs": []
    },
    {
      "cell_type": "markdown",
      "source": [
        "ref : https://www.kaggle.com/code/manohar676/binary-classification-using-mlp-autoencoder"
      ],
      "metadata": {
        "id": "4qIcA8g5W67W"
      }
    },
    {
      "cell_type": "code",
      "source": [
        "input_size = 784\n",
        "encoding_dim = 128\n",
        "input_img = Input(shape=(input_size,))\n",
        "encoded = Dense(encoding_dim, activation='relu')(input_img)\n",
        "encoded = Dense(128, activation='relu')(encoded)\n",
        "decoded = Dense(256, activation='relu')(encoded)\n",
        "decoded = Dense(input_size, activation='sigmoid')(encoded)\n",
        "dae = Model(input_img, decoded)\n",
        "\n",
        "dae.summary()\n"
      ],
      "metadata": {
        "colab": {
          "base_uri": "https://localhost:8080/"
        },
        "id": "BkP7aVIOSgDx",
        "outputId": "a7307155-5905-4a53-d1ec-3a66bbcfebc0"
      },
      "execution_count": null,
      "outputs": [
        {
          "output_type": "stream",
          "name": "stdout",
          "text": [
            "Model: \"model_1\"\n",
            "_________________________________________________________________\n",
            " Layer (type)                Output Shape              Param #   \n",
            "=================================================================\n",
            " input_2 (InputLayer)        [(None, 784)]             0         \n",
            "                                                                 \n",
            " dense_20 (Dense)            (None, 128)               100480    \n",
            "                                                                 \n",
            " dense_21 (Dense)            (None, 128)               16512     \n",
            "                                                                 \n",
            " dense_23 (Dense)            (None, 784)               101136    \n",
            "                                                                 \n",
            "=================================================================\n",
            "Total params: 218128 (852.06 KB)\n",
            "Trainable params: 218128 (852.06 KB)\n",
            "Non-trainable params: 0 (0.00 Byte)\n",
            "_________________________________________________________________\n"
          ]
        }
      ]
    },
    {
      "cell_type": "code",
      "source": [
        "dae.compile(optimizer='adam', loss='binary_crossentropy')"
      ],
      "metadata": {
        "id": "_NSqJ93YWVQ2"
      },
      "execution_count": null,
      "outputs": []
    },
    {
      "cell_type": "markdown",
      "source": [
        "ref : https://pyimagesearch.com/2020/02/24/denoising-autoencoders-with-keras-tensorflow-and-deep-learning/"
      ],
      "metadata": {
        "id": "_hGQUdcRKnLY"
      }
    },
    {
      "cell_type": "code",
      "source": [
        "trainNoise = np.random.normal(loc=0.5, scale=0.5, size=x_labeled.shape)\n",
        "#testNoise = np.random.normal(loc=0.5, scale=0.5, size=x_test.shape)\n",
        "\n",
        "trainXNoisy = np.clip(x_labeled + trainNoise, 0, 1)\n",
        "#testXNoisy = np.clip(x_test + testNoise, 0, 1)"
      ],
      "metadata": {
        "id": "oGAltyWXJoZM"
      },
      "execution_count": null,
      "outputs": []
    },
    {
      "cell_type": "code",
      "source": [
        "history = dae.fit(trainXNoisy, x_labeled, epochs=10)"
      ],
      "metadata": {
        "colab": {
          "base_uri": "https://localhost:8080/"
        },
        "id": "bFNnzIT4FdEJ",
        "outputId": "cea911b2-d087-42fc-baac-7e8aad8cb7f5"
      },
      "execution_count": null,
      "outputs": [
        {
          "output_type": "stream",
          "name": "stdout",
          "text": [
            "Epoch 1/10\n",
            "4/4 [==============================] - 1s 7ms/step - loss: 0.6806\n",
            "Epoch 2/10\n",
            "4/4 [==============================] - 0s 6ms/step - loss: 0.5898\n",
            "Epoch 3/10\n",
            "4/4 [==============================] - 0s 6ms/step - loss: 0.4554\n",
            "Epoch 4/10\n",
            "4/4 [==============================] - 0s 6ms/step - loss: 0.3561\n",
            "Epoch 5/10\n",
            "4/4 [==============================] - 0s 6ms/step - loss: 0.3088\n",
            "Epoch 6/10\n",
            "4/4 [==============================] - 0s 7ms/step - loss: 0.2873\n",
            "Epoch 7/10\n",
            "4/4 [==============================] - 0s 7ms/step - loss: 0.2785\n",
            "Epoch 8/10\n",
            "4/4 [==============================] - 0s 7ms/step - loss: 0.2751\n",
            "Epoch 9/10\n",
            "4/4 [==============================] - 0s 6ms/step - loss: 0.2726\n",
            "Epoch 10/10\n",
            "4/4 [==============================] - 0s 7ms/step - loss: 0.2702\n"
          ]
        }
      ]
    },
    {
      "cell_type": "code",
      "source": [
        "model = tf.keras.models.Sequential([\n",
        "    tf.keras.layers.Flatten(input_shape=(784,)),\n",
        "    tf.keras.layers.Dense(128, activation='relu'),\n",
        "    tf.keras.layers.Dense(128, activation='relu'),\n",
        "    tf.keras.layers.Dense(128, activation='relu'),\n",
        "    tf.keras.layers.Dense(10, activation='sigmoid')\n",
        "])\n",
        "model.summary()"
      ],
      "metadata": {
        "colab": {
          "base_uri": "https://localhost:8080/"
        },
        "outputId": "bfa65922-e440-42d3-f888-b5da4f7f4998",
        "id": "RtCNpdiPWuzH"
      },
      "execution_count": null,
      "outputs": [
        {
          "output_type": "stream",
          "name": "stdout",
          "text": [
            "Model: \"sequential_4\"\n",
            "_________________________________________________________________\n",
            " Layer (type)                Output Shape              Param #   \n",
            "=================================================================\n",
            " flatten_4 (Flatten)         (None, 784)               0         \n",
            "                                                                 \n",
            " dense_24 (Dense)            (None, 128)               100480    \n",
            "                                                                 \n",
            " dense_25 (Dense)            (None, 128)               16512     \n",
            "                                                                 \n",
            " dense_26 (Dense)            (None, 128)               16512     \n",
            "                                                                 \n",
            " dense_27 (Dense)            (None, 10)                1290      \n",
            "                                                                 \n",
            "=================================================================\n",
            "Total params: 134794 (526.54 KB)\n",
            "Trainable params: 134794 (526.54 KB)\n",
            "Non-trainable params: 0 (0.00 Byte)\n",
            "_________________________________________________________________\n"
          ]
        }
      ]
    },
    {
      "cell_type": "code",
      "source": [
        "model.compile(optimizer='adam', loss='categorical_crossentropy', metrics=['accuracy'])"
      ],
      "metadata": {
        "id": "FD59jp9aWuzI"
      },
      "execution_count": null,
      "outputs": []
    },
    {
      "cell_type": "code",
      "source": [
        "encoded_data = dae.predict(x_unlabeled)"
      ],
      "metadata": {
        "colab": {
          "base_uri": "https://localhost:8080/"
        },
        "outputId": "36298a4d-508e-4ccf-d304-869157045eab",
        "id": "W0uVsUkOWuzI"
      },
      "execution_count": null,
      "outputs": [
        {
          "output_type": "stream",
          "name": "stdout",
          "text": [
            "1872/1872 [==============================] - 6s 3ms/step\n"
          ]
        }
      ]
    },
    {
      "cell_type": "code",
      "source": [
        "max_probabilities = np.max(encoded_data, axis=1)"
      ],
      "metadata": {
        "id": "VwbyUtfjlK2h"
      },
      "execution_count": null,
      "outputs": []
    },
    {
      "cell_type": "code",
      "source": [
        "pred_one_hot = to_categorical(max_probabilities, num_classes=10)"
      ],
      "metadata": {
        "id": "_RsXim4XeBnz"
      },
      "execution_count": null,
      "outputs": []
    },
    {
      "cell_type": "code",
      "source": [
        "combined_x = np.concatenate([x_labeled, x_unlabeled], axis=0)\n",
        "combined_y = np.concatenate([y_labeled, pred_one_hot], axis=0)"
      ],
      "metadata": {
        "id": "smF3_fqJoh_e"
      },
      "execution_count": null,
      "outputs": []
    },
    {
      "cell_type": "code",
      "source": [
        "model.fit(combined_x, combined_y, epochs=1,  shuffle=True)"
      ],
      "metadata": {
        "colab": {
          "base_uri": "https://localhost:8080/"
        },
        "outputId": "5fd86cff-a59f-4437-e3fe-0555e486c478",
        "id": "n2KZtfdCWuzI"
      },
      "execution_count": null,
      "outputs": [
        {
          "output_type": "stream",
          "name": "stdout",
          "text": [
            "1875/1875 [==============================] - 11s 6ms/step - loss: 0.0256 - accuracy: 0.9979\n"
          ]
        },
        {
          "output_type": "execute_result",
          "data": {
            "text/plain": [
              "<keras.src.callbacks.History at 0x7c3958cf6770>"
            ]
          },
          "metadata": {},
          "execution_count": 79
        }
      ]
    },
    {
      "cell_type": "code",
      "source": [
        "test_loss, test_acc = model.evaluate(x_test,  y_test, verbose=2)"
      ],
      "metadata": {
        "colab": {
          "base_uri": "https://localhost:8080/"
        },
        "id": "ZknJJJ7IWt2S",
        "outputId": "3e026d13-5b6a-4c09-93a9-1087e2f6d454"
      },
      "execution_count": null,
      "outputs": [
        {
          "output_type": "stream",
          "name": "stdout",
          "text": [
            "313/313 - 1s - loss: 13.2859 - accuracy: 0.0980 - 546ms/epoch - 2ms/step\n"
          ]
        }
      ]
    }
  ]
}